{
 "cells": [
  {
   "cell_type": "markdown",
   "id": "6ff33620",
   "metadata": {},
   "source": [
    "## Initial Exploration of Apple Stock"
   ]
  },
  {
   "cell_type": "code",
   "execution_count": 4,
   "id": "cf0ef162",
   "metadata": {},
   "outputs": [],
   "source": [
    "# import required libraries\n",
    "import pandas as pd\n",
    "import matplotlib.pyplot as plt # graphs and charts\n",
    "import plotly.express as px # incase want to do interactive graphs"
   ]
  },
  {
   "cell_type": "code",
   "execution_count": 3,
   "id": "0b2f7e27",
   "metadata": {},
   "outputs": [],
   "source": [
    "DATA = \"../data/aapl.csv\""
   ]
  },
  {
   "cell_type": "code",
   "execution_count": 13,
   "id": "440943e8",
   "metadata": {},
   "outputs": [],
   "source": [
    "apple_df = pd.read_csv(DATA, parse_dates=[\"Date\"],index_col=\"Date\")"
   ]
  },
  {
   "cell_type": "code",
   "execution_count": 19,
   "id": "acab4e04",
   "metadata": {},
   "outputs": [
    {
     "name": "stdout",
     "output_type": "stream",
     "text": [
      "<class 'pandas.core.frame.DataFrame'>\n",
      "DatetimeIndex: 3854 entries, 2010-01-04 to 2025-04-29\n",
      "Data columns (total 5 columns):\n",
      " #   Column  Non-Null Count  Dtype  \n",
      "---  ------  --------------  -----  \n",
      " 0   Close   3854 non-null   float64\n",
      " 1   High    3854 non-null   float64\n",
      " 2   Low     3854 non-null   float64\n",
      " 3   Open    3854 non-null   float64\n",
      " 4   Volume  3854 non-null   int64  \n",
      "dtypes: float64(4), int64(1)\n",
      "memory usage: 180.7 KB\n"
     ]
    }
   ],
   "source": [
    "apple_df.info()"
   ]
  },
  {
   "cell_type": "code",
   "execution_count": 20,
   "id": "81b65f37",
   "metadata": {},
   "outputs": [
    {
     "data": {
      "text/html": [
       "<div>\n",
       "<style scoped>\n",
       "    .dataframe tbody tr th:only-of-type {\n",
       "        vertical-align: middle;\n",
       "    }\n",
       "\n",
       "    .dataframe tbody tr th {\n",
       "        vertical-align: top;\n",
       "    }\n",
       "\n",
       "    .dataframe thead th {\n",
       "        text-align: right;\n",
       "    }\n",
       "</style>\n",
       "<table border=\"1\" class=\"dataframe\">\n",
       "  <thead>\n",
       "    <tr style=\"text-align: right;\">\n",
       "      <th></th>\n",
       "      <th>Close</th>\n",
       "      <th>High</th>\n",
       "      <th>Low</th>\n",
       "      <th>Open</th>\n",
       "      <th>Volume</th>\n",
       "    </tr>\n",
       "  </thead>\n",
       "  <tbody>\n",
       "    <tr>\n",
       "      <th>count</th>\n",
       "      <td>3854.000000</td>\n",
       "      <td>3854.000000</td>\n",
       "      <td>3854.000000</td>\n",
       "      <td>3854.000000</td>\n",
       "      <td>3.854000e+03</td>\n",
       "    </tr>\n",
       "    <tr>\n",
       "      <th>mean</th>\n",
       "      <td>70.673554</td>\n",
       "      <td>71.379008</td>\n",
       "      <td>69.893755</td>\n",
       "      <td>70.610598</td>\n",
       "      <td>2.263752e+08</td>\n",
       "    </tr>\n",
       "    <tr>\n",
       "      <th>std</th>\n",
       "      <td>68.592156</td>\n",
       "      <td>69.272078</td>\n",
       "      <td>67.819639</td>\n",
       "      <td>68.506379</td>\n",
       "      <td>2.172045e+08</td>\n",
       "    </tr>\n",
       "    <tr>\n",
       "      <th>min</th>\n",
       "      <td>5.771908</td>\n",
       "      <td>5.890619</td>\n",
       "      <td>5.717810</td>\n",
       "      <td>5.781522</td>\n",
       "      <td>2.323470e+07</td>\n",
       "    </tr>\n",
       "    <tr>\n",
       "      <th>25%</th>\n",
       "      <td>17.619554</td>\n",
       "      <td>17.831890</td>\n",
       "      <td>17.446614</td>\n",
       "      <td>17.659458</td>\n",
       "      <td>8.324180e+07</td>\n",
       "    </tr>\n",
       "    <tr>\n",
       "      <th>50%</th>\n",
       "      <td>36.318361</td>\n",
       "      <td>36.575688</td>\n",
       "      <td>35.977608</td>\n",
       "      <td>36.324902</td>\n",
       "      <td>1.372656e+08</td>\n",
       "    </tr>\n",
       "    <tr>\n",
       "      <th>75%</th>\n",
       "      <td>131.524704</td>\n",
       "      <td>132.867004</td>\n",
       "      <td>130.231703</td>\n",
       "      <td>131.882184</td>\n",
       "      <td>3.025519e+08</td>\n",
       "    </tr>\n",
       "    <tr>\n",
       "      <th>max</th>\n",
       "      <td>258.396667</td>\n",
       "      <td>259.474086</td>\n",
       "      <td>257.010028</td>\n",
       "      <td>257.568678</td>\n",
       "      <td>1.880998e+09</td>\n",
       "    </tr>\n",
       "  </tbody>\n",
       "</table>\n",
       "</div>"
      ],
      "text/plain": [
       "             Close         High          Low         Open        Volume\n",
       "count  3854.000000  3854.000000  3854.000000  3854.000000  3.854000e+03\n",
       "mean     70.673554    71.379008    69.893755    70.610598  2.263752e+08\n",
       "std      68.592156    69.272078    67.819639    68.506379  2.172045e+08\n",
       "min       5.771908     5.890619     5.717810     5.781522  2.323470e+07\n",
       "25%      17.619554    17.831890    17.446614    17.659458  8.324180e+07\n",
       "50%      36.318361    36.575688    35.977608    36.324902  1.372656e+08\n",
       "75%     131.524704   132.867004   130.231703   131.882184  3.025519e+08\n",
       "max     258.396667   259.474086   257.010028   257.568678  1.880998e+09"
      ]
     },
     "execution_count": 20,
     "metadata": {},
     "output_type": "execute_result"
    }
   ],
   "source": [
    "apple_df.describe()"
   ]
  },
  {
   "cell_type": "code",
   "execution_count": null,
   "id": "44a44fda",
   "metadata": {},
   "outputs": [
    {
     "name": "stdout",
     "output_type": "stream",
     "text": [
      "<class 'pandas.core.frame.DataFrame'>\n",
      "DatetimeIndex: 3854 entries, 2010-01-04 to 2025-04-29\n",
      "Data columns (total 5 columns):\n",
      " #   Column  Non-Null Count  Dtype  \n",
      "---  ------  --------------  -----  \n",
      " 0   Close   3854 non-null   float64\n",
      " 1   High    3854 non-null   float64\n",
      " 2   Low     3854 non-null   float64\n",
      " 3   Open    3854 non-null   float64\n",
      " 4   Volume  3854 non-null   int64  \n",
      "dtypes: float64(4), int64(1)\n",
      "memory usage: 180.7 KB\n"
     ]
    }
   ],
   "source": [
    "# Quick peek at the data and what we are dealing with.\n",
    "apple_df.head(), apple_df.tail()"
   ]
  },
  {
   "cell_type": "code",
   "execution_count": null,
   "id": "2c5b83f2",
   "metadata": {},
   "outputs": [
    {
     "data": {
      "text/plain": [
       "(               Close      High       Low      Open     Volume\n",
       " Date                                                         \n",
       " 2010-01-04  6.431896  6.446623  6.382908  6.414465  493729600\n",
       " 2010-01-05  6.443017  6.479383  6.409055  6.449629  601904800\n",
       " 2010-01-06  6.340530  6.468561  6.333918  6.443015  552160000\n",
       " 2010-01-07  6.328811  6.371488  6.282828  6.363974  477131200\n",
       " 2010-01-08  6.370885  6.371487  6.283128  6.320394  447610800,\n",
       "                  Close        High         Low        Open    Volume\n",
       " Date                                                                \n",
       " 2025-04-23  204.332062  207.727603  202.534416  205.730222  52929200\n",
       " 2025-04-24  208.097107  208.556511  202.674226  204.621669  47311000\n",
       " 2025-04-25  209.005920  209.475306  205.929952  206.099728  38222300\n",
       " 2025-04-28  209.864792  211.223011  207.188309  209.724976  38743100\n",
       " 2025-04-29  210.933395  211.962045  208.097103  208.416691  36827600)"
      ]
     },
     "execution_count": 18,
     "metadata": {},
     "output_type": "execute_result"
    }
   ],
   "source": [
    "\n"
   ]
  },
  {
   "cell_type": "code",
   "execution_count": null,
   "id": "cadc2bab",
   "metadata": {},
   "outputs": [],
   "source": []
  }
 ],
 "metadata": {
  "kernelspec": {
   "display_name": ".venv",
   "language": "python",
   "name": "python3"
  },
  "language_info": {
   "codemirror_mode": {
    "name": "ipython",
    "version": 3
   },
   "file_extension": ".py",
   "mimetype": "text/x-python",
   "name": "python",
   "nbconvert_exporter": "python",
   "pygments_lexer": "ipython3",
   "version": "3.13.3"
  }
 },
 "nbformat": 4,
 "nbformat_minor": 5
}
